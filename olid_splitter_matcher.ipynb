{
 "cells": [
  {
   "cell_type": "code",
   "execution_count": 22,
   "metadata": {},
   "outputs": [],
   "source": [
    "import polars as pl\n",
    "import re\n",
    "import emoji\n",
    "\n",
    "def cleaner(text):\n",
    "    text = str(text).lower() # Set all the words in lower case\n",
    "    text = re.sub(r'\\n', ' ', text) # Remove newline characters\n",
    "    text = re.sub(\"@[A-Za-z0-9]+\",\"\",text) # Remove usernames\n",
    "    text = re.sub(r\"(?:\\@|http?\\://|https?\\://|www)\\S+\", \"\", text) # Remove the URLs\n",
    "    text = \" \".join(text.split()) # Remove extra white spaces\n",
    "    text = ''.join(c for c in text if c not in emoji.EMOJI_DATA) # Remove emojis\n",
    "    text = text.replace(\"#\", \"\").replace(\"_\", \" \")\n",
    "    text = text.replace(\"http\", \"\")\n",
    "    text = re.sub(r\"[^\\w\\s]\", \"\", text)  # Remove punctuation\n",
    "    text = re.sub(r\"\\d+\", \"\", text)  # Remove numbers\n",
    "    text = re.sub(r\"\\s+\", \" \", text).strip()  # Remove extra whitespaces\n",
    "    \n",
    "    return text\n",
    "\n",
    "def encode_label(label):\n",
    "    return 0 if label == \"NOT\" else 1\n",
    "\n",
    "df1 = pl.read_csv('OLID/testset-levela.tsv', separator=\"\\t\")\n",
    "df2 = pl.read_csv('OLID/labels-levela.csv')\n",
    "df = df1.join(df2, on=\"id\").with_columns(\n",
    "    text = pl.col(\"tweet\").map_elements(cleaner, return_dtype=pl.Utf8),\n",
    "    labels = pl.col(\"label\").map_elements(encode_label, return_dtype=pl.Int64)\n",
    ")\n",
    "\n",
    "df.select([\"text\", \"labels\"]).write_csv(\"datasets/dataset4_test.csv\")"
   ]
  },
  {
   "cell_type": "code",
   "execution_count": 23,
   "metadata": {},
   "outputs": [],
   "source": [
    "df = pl.read_csv(\"OLID/olid-training-v1.0.tsv\", separator=\"\\t\").with_columns(\n",
    "    text = pl.col(\"tweet\").map_elements(cleaner, return_dtype=pl.Utf8),\n",
    "    labels = pl.col(\"subtask_a\").map_elements(encode_label, return_dtype=pl.Int64)\n",
    ")\n",
    "\n",
    "df.select([\"text\", \"labels\"]).write_csv(\"datasets/dataset4_train.csv\")"
   ]
  },
  {
   "cell_type": "code",
   "execution_count": null,
   "metadata": {},
   "outputs": [],
   "source": []
  }
 ],
 "metadata": {
  "kernelspec": {
   "display_name": "Python 3",
   "language": "python",
   "name": "python3"
  },
  "language_info": {
   "codemirror_mode": {
    "name": "ipython",
    "version": 3
   },
   "file_extension": ".py",
   "mimetype": "text/x-python",
   "name": "python",
   "nbconvert_exporter": "python",
   "pygments_lexer": "ipython3",
   "version": "3.12.6"
  }
 },
 "nbformat": 4,
 "nbformat_minor": 2
}
