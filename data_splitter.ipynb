{
 "cells": [
  {
   "cell_type": "code",
   "execution_count": 4,
   "metadata": {},
   "outputs": [],
   "source": [
    "import pandas as pd\n",
    "import numpy as np\n",
    "\n",
    "import re\n",
    "import emoji\n",
    "\n",
    "from sklearn.model_selection import train_test_split\n",
    "\n",
    "def cleaner(text):\n",
    "    text = str(text).lower() # Set all the words in lower case\n",
    "    text = re.sub(r'\\n', ' ', text) # Remove newline characters\n",
    "    text = re.sub(\"@[A-Za-z0-9]+\",\"\",text) # Remove usernames\n",
    "    text = re.sub(r\"(?:\\@|http?\\://|https?\\://|www)\\S+\", \"\", text) # Remove the URLs\n",
    "    text = \" \".join(text.split()) # Remove extra white spaces\n",
    "    text = ''.join(c for c in text if c not in emoji.EMOJI_DATA) # Remove emojis\n",
    "    text = text.replace(\"#\", \"\").replace(\"_\", \" \")\n",
    "    text = text.replace(\"http\", \"\")\n",
    "    text = re.sub(r\"[^\\w\\s]\", \"\", text)  # Remove punctuation\n",
    "    text = re.sub(r\"\\d+\", \"\", text)  # Remove numbers\n",
    "    text = re.sub(r\"\\s+\", \" \", text).strip()  # Remove extra whitespaces\n",
    "    \n",
    "    return text\n",
    "\n",
    "df = pd.read_csv(\"original.csv\")\n",
    "df['text'] = df['text'].map(lambda x: cleaner(x))\n",
    "\n",
    "dataset1, dataset2, dataset3 = np.array_split(df, 3)\n",
    "\n",
    "dataset1_train, dataset1_test = train_test_split(dataset1, test_size=0.2, random_state=2122542)\n",
    "dataset1_train.to_csv(\"datasets/dataset1_train.csv\", index=False)\n",
    "dataset1_test.to_csv(\"datasets/dataset1_test.csv\", index=False)\n",
    "\n",
    "dataset2_train, dataset2_test = train_test_split(dataset2, test_size=0.2, random_state=2122542)\n",
    "dataset2_train.to_csv(\"datasets/dataset2_train.csv\", index=False)\n",
    "dataset2_test.to_csv(\"datasets/dataset2_test.csv\", index=False)\n",
    "\n",
    "dataset3_train, dataset3_test = train_test_split(dataset3, test_size=0.2, random_state=2122542)\n",
    "dataset3_train.to_csv(\"datasets/dataset3_train.csv\", index=False)\n",
    "dataset3_test.to_csv(\"datasets/dataset3_test.csv\", index=False)\n",
    "\n",
    "df_train, df_test = train_test_split(df, test_size=0.2)\n",
    "df_train.to_csv(\"datasets/original_train.csv\", index=False)\n",
    "df_test.to_csv(\"datasets/original_test.csv\", index=False)"
   ]
  },
  {
   "cell_type": "code",
   "execution_count": null,
   "metadata": {},
   "outputs": [],
   "source": []
  }
 ],
 "metadata": {
  "kernelspec": {
   "display_name": "Python 3",
   "language": "python",
   "name": "python3"
  },
  "language_info": {
   "codemirror_mode": {
    "name": "ipython",
    "version": 3
   },
   "file_extension": ".py",
   "mimetype": "text/x-python",
   "name": "python",
   "nbconvert_exporter": "python",
   "pygments_lexer": "ipython3",
   "version": "3.10.11"
  }
 },
 "nbformat": 4,
 "nbformat_minor": 2
}
